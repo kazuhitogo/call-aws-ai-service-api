{
 "cells": [
  {
   "cell_type": "code",
   "execution_count": null,
   "metadata": {},
   "outputs": [],
   "source": [
    "import boto3"
   ]
  },
  {
   "cell_type": "code",
   "execution_count": null,
   "metadata": {},
   "outputs": [],
   "source": [
    "client = boto3.client('polly')"
   ]
  },
  {
   "cell_type": "markdown",
   "metadata": {},
   "source": [
    "# まずは音声を作ってみる\n",
    "[参考](https://www.youtube.com/watch?v=txUQ9W2YKIA)"
   ]
  },
  {
   "cell_type": "code",
   "execution_count": null,
   "metadata": {},
   "outputs": [],
   "source": [
    "text = \"\"\"\n",
    "みなさんおはようございます。任天堂の岩田です。2014年最初の任天堂ダイレクトを直接お届けいたします。\n",
    "\"\"\""
   ]
  },
  {
   "cell_type": "code",
   "execution_count": null,
   "metadata": {},
   "outputs": [],
   "source": [
    "response = client.synthesize_speech(\n",
    "    OutputFormat='mp3',\n",
    "    LanguageCode='ja-JP',\n",
    "    Text=text,\n",
    "    VoiceId=\"Takumi\",\n",
    ")\n",
    "print(response)"
   ]
  },
  {
   "cell_type": "code",
   "execution_count": null,
   "metadata": {},
   "outputs": [],
   "source": [
    "mp3_binary = response[\"AudioStream\"].read()\n",
    "file_name = \"talk.mp3\"\n",
    "file_path = \"./\"\n",
    "with open(file_path + file_name,\"wb\") as f:\n",
    "    f.write(mp3_binary)"
   ]
  },
  {
   "cell_type": "markdown",
   "metadata": {},
   "source": [
    "# 音声の種類を確認"
   ]
  },
  {
   "cell_type": "code",
   "execution_count": null,
   "metadata": {},
   "outputs": [],
   "source": [
    "client.describe_voices(\n",
    "    LanguageCode='ja-JP'\n",
    ")"
   ]
  },
  {
   "cell_type": "markdown",
   "metadata": {},
   "source": [
    "# SSML を試してみる"
   ]
  },
  {
   "cell_type": "code",
   "execution_count": null,
   "metadata": {},
   "outputs": [],
   "source": [
    "text = \"\"\"\n",
    "<speak>\n",
    "<break time=\"3s\"/>\n",
    "みなさん\n",
    "<break time=\"1s\"/>\n",
    "おはようございます。任天堂の岩田です。2014年最初の任天堂ダイレクトを\n",
    "<emphasis level=\"moderate\">\n",
    "直接\n",
    "</emphasis>\n",
    "お届けいたします。</speak>\n",
    "\"\"\""
   ]
  },
  {
   "cell_type": "code",
   "execution_count": null,
   "metadata": {},
   "outputs": [],
   "source": [
    "response = client.synthesize_speech(\n",
    "    OutputFormat='mp3',\n",
    "    LanguageCode='ja-JP',\n",
    "    Text=text,\n",
    "    TextType='ssml',\n",
    "    VoiceId=\"Takumi\",\n",
    ")\n",
    "print(response)"
   ]
  },
  {
   "cell_type": "code",
   "execution_count": null,
   "metadata": {},
   "outputs": [],
   "source": [
    "mp3_binary = response[\"AudioStream\"].read()\n",
    "file_name = \"talk_with_ssml.mp3\"\n",
    "file_path = \"./\"\n",
    "with open(file_path + file_name,\"wb\") as f:\n",
    "    f.write(mp3_binary)"
   ]
  },
  {
   "cell_type": "markdown",
   "metadata": {},
   "source": [
    "# Lexicon を試してみる"
   ]
  },
  {
   "cell_type": "code",
   "execution_count": null,
   "metadata": {},
   "outputs": [],
   "source": [
    "# 本気と書いてマジと読む\n",
    "lexicon = \"\"\"<?xml version=\"1.0\" encoding=\"UTF-8\"?>\n",
    "<lexicon version=\"1.0\" \n",
    "      xmlns=\"http://www.w3.org/2005/01/pronunciation-lexicon\"\n",
    "      xmlns:xsi=\"http://www.w3.org/2001/XMLSchema-instance\" \n",
    "      xsi:schemaLocation=\"http://www.w3.org/2005/01/pronunciation-lexicon \n",
    "        http://www.w3.org/TR/2007/CR-pronunciation-lexicon-20071212/pls.xsd\"\n",
    "      alphabet=\"ipa\" xml:lang=\"ja-JP\">\n",
    "  <lexeme>\n",
    "    <grapheme>本気</grapheme>\n",
    "    <alias>マジ</alias>\n",
    "  </lexeme>\n",
    "  <lexeme>\n",
    "    <grapheme>明日</grapheme>\n",
    "    <alias>あした</alias>\n",
    "  </lexeme>\n",
    "</lexicon>\n",
    "\"\"\"\n"
   ]
  },
  {
   "cell_type": "code",
   "execution_count": null,
   "metadata": {
    "scrolled": true
   },
   "outputs": [],
   "source": [
    "response = client.put_lexicon(\n",
    "    Name='MajiAshita',\n",
    "    Content=lexicon\n",
    ")"
   ]
  },
  {
   "cell_type": "code",
   "execution_count": null,
   "metadata": {},
   "outputs": [],
   "source": [
    "text = \"明日から本気でダイエットする\""
   ]
  },
  {
   "cell_type": "code",
   "execution_count": null,
   "metadata": {},
   "outputs": [],
   "source": [
    "response = client.synthesize_speech(\n",
    "    OutputFormat='mp3',\n",
    "    LanguageCode='ja-JP',\n",
    "    LexiconNames=['MajiAshita'],\n",
    "    Text=text,\n",
    "    VoiceId=\"Takumi\",\n",
    ")\n",
    "print(response)"
   ]
  },
  {
   "cell_type": "code",
   "execution_count": null,
   "metadata": {},
   "outputs": [],
   "source": [
    "mp3_binary = response[\"AudioStream\"].read()\n",
    "file_name = \"talk_with_lexicon.mp3\"\n",
    "file_path = \"./\"\n",
    "with open(file_path + file_name,\"wb\") as f:\n",
    "    f.write(mp3_binary)"
   ]
  },
  {
   "cell_type": "markdown",
   "metadata": {},
   "source": [
    "# お片付け"
   ]
  },
  {
   "cell_type": "code",
   "execution_count": null,
   "metadata": {},
   "outputs": [],
   "source": [
    "# レキシコン削除\n",
    "client.delete_lexicon(Name='MajiAshita')"
   ]
  },
  {
   "cell_type": "code",
   "execution_count": null,
   "metadata": {},
   "outputs": [],
   "source": []
  }
 ],
 "metadata": {
  "kernelspec": {
   "display_name": "conda_python3",
   "language": "python",
   "name": "conda_python3"
  },
  "language_info": {
   "codemirror_mode": {
    "name": "ipython",
    "version": 3
   },
   "file_extension": ".py",
   "mimetype": "text/x-python",
   "name": "python",
   "nbconvert_exporter": "python",
   "pygments_lexer": "ipython3",
   "version": "3.6.10"
  }
 },
 "nbformat": 4,
 "nbformat_minor": 4
}
