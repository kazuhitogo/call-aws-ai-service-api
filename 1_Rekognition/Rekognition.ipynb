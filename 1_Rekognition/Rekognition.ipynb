{
 "cells": [
  {
   "cell_type": "markdown",
   "metadata": {},
   "source": [
    "# Rekognition のだいたいの機能を使う\n",
    "1. オブジェクトとシーンの検出\n",
    "2. 画像の節度\n",
    "3. 顔の分析\n",
    "4. 有名人の認識\n",
    "5. 顔の比較\n",
    "6. イメージ内のテキスト\n",
    "7. 顔のコレクション\n",
    "\n",
    "---\n",
    "やらないこと\n",
    "1. Rekognition Video\n",
    "2. Custom Labels"
   ]
  },
  {
   "cell_type": "code",
   "execution_count": null,
   "metadata": {},
   "outputs": [],
   "source": [
    "import boto3,sagemaker,io\n",
    "from PIL import Image"
   ]
  },
  {
   "cell_type": "code",
   "execution_count": null,
   "metadata": {},
   "outputs": [],
   "source": [
    "client = boto3.client('rekognition')"
   ]
  },
  {
   "cell_type": "code",
   "execution_count": null,
   "metadata": {
    "scrolled": true
   },
   "outputs": [],
   "source": [
    "# データをダウンロード\n",
    "!mkdir -p ./data/\n",
    "!wget -O ./data/skateboard_resized.jpg https://dhei5unw3vrsx.cloudfront.net/images/skateboard_resized.jpg\n",
    "!wget -O ./data/family_picnic.jpg https://dhei5unw3vrsx.cloudfront.net/images/family_picnic.jpg\n",
    "!wget -O ./data/drive_resized.jpg https://dhei5unw3vrsx.cloudfront.net/images/drive_resized.jpg\n",
    "!wget -O ./data/jeff_portrait.jpg https://dhei5unw3vrsx.cloudfront.net/images/jeff_portrait.jpg\n",
    "!wget -O ./data/source3_resized.jpg https://dhei5unw3vrsx.cloudfront.net/images/source3_resized.jpg\n",
    "!wget -O ./data/jeff_test.jpg https://assets.media-platform.com/bi/dist/images/2019/06/07/jeff-bezos-shares-his-best-advice-for-anyone-starting-a-business.jpg\n",
    "!wget -O ./data/stive_test.jpg https://m.media-amazon.com/images/I/41b+TUx+W9L.jpg"
   ]
  },
  {
   "cell_type": "markdown",
   "metadata": {},
   "source": [
    "# オブジェクトとシーンの検出 ( detect_labels )\n",
    "1. バイト文字列 ( 5MB 以下)\n",
    "2. S3\n",
    "\n",
    "[詳細はこちら](https://boto3.amazonaws.com/v1/documentation/api/latest/reference/services/rekognition.html#Rekognition.Client.detect_labels)"
   ]
  },
  {
   "cell_type": "markdown",
   "metadata": {},
   "source": [
    "## 1. バイト文字列で detect_labels"
   ]
  },
  {
   "cell_type": "code",
   "execution_count": null,
   "metadata": {},
   "outputs": [],
   "source": [
    "img_file = './data/skateboard_resized.jpg'"
   ]
  },
  {
   "cell_type": "code",
   "execution_count": null,
   "metadata": {},
   "outputs": [],
   "source": [
    "with open(img_file,'rb') as f:\n",
    "    img_bytes = f.read()\n",
    "print(img_bytes[0:10])"
   ]
  },
  {
   "cell_type": "code",
   "execution_count": null,
   "metadata": {},
   "outputs": [],
   "source": [
    "client.detect_labels(Image={\n",
    "    'Bytes': img_bytes\n",
    "})"
   ]
  },
  {
   "cell_type": "markdown",
   "metadata": {},
   "source": [
    "## 2. S3 object でdetect_labels"
   ]
  },
  {
   "cell_type": "code",
   "execution_count": null,
   "metadata": {},
   "outputs": [],
   "source": [
    "s3_location = sagemaker.Session().upload_data(img_file,bucket=sagemaker.Session().default_bucket(),key_prefix='asa_study')\n",
    "print(s3_location)\n",
    "bucket,key = sagemaker.s3.parse_s3_url(s3_location)\n",
    "print(f'bucket: {bucket}')\n",
    "print(f'key: {key}')"
   ]
  },
  {
   "cell_type": "code",
   "execution_count": null,
   "metadata": {},
   "outputs": [],
   "source": [
    "client.detect_labels(Image={'S3Object':{\n",
    "    'Bucket': bucket,\n",
    "    'Name': key\n",
    "}})"
   ]
  },
  {
   "cell_type": "markdown",
   "metadata": {},
   "source": [
    "# 画像の節度 ( detect_moderation_labels )\n",
    "1. バイト文字列 ( 5MB 以下)\n",
    "2. S3\n",
    "\n",
    "[詳細はこちら](https://boto3.amazonaws.com/v1/documentation/api/latest/reference/services/rekognition.html#Rekognition.Client.detect_moderation_labels)"
   ]
  },
  {
   "cell_type": "markdown",
   "metadata": {},
   "source": [
    "## 1. バイト文字列でdetect_moderation_labels"
   ]
  },
  {
   "cell_type": "code",
   "execution_count": null,
   "metadata": {},
   "outputs": [],
   "source": [
    "# 5MB 以上の画像なので、バイト文字列で detect_moderation_labels する際はリサイズする\n",
    "img_file = './data/family_picnic.jpg'\n",
    "img = Image.open(img_file)\n",
    "img_resize = img.resize((img.width//2,img.height//2))\n",
    "\n",
    "img_resize = img.resize((img.width//2,img.height//2))\n",
    "with io.BytesIO() as img:\n",
    "    img_resize.save(img,format=\"jpeg\")\n",
    "    img_bytes = img.getvalue()#バイナリ取得\n",
    "\n",
    "del img_resize,img"
   ]
  },
  {
   "cell_type": "code",
   "execution_count": null,
   "metadata": {},
   "outputs": [],
   "source": [
    "print(img_bytes[0:10])"
   ]
  },
  {
   "cell_type": "code",
   "execution_count": null,
   "metadata": {},
   "outputs": [],
   "source": [
    "%%time\n",
    "client.detect_moderation_labels(Image={\n",
    "    'Bytes': img_bytes\n",
    "})"
   ]
  },
  {
   "cell_type": "markdown",
   "metadata": {},
   "source": [
    "## 2. S3 で detect_moderation_labels"
   ]
  },
  {
   "cell_type": "code",
   "execution_count": null,
   "metadata": {
    "scrolled": true
   },
   "outputs": [],
   "source": [
    "%%time\n",
    "client.detect_labels(Image={'S3Object':{\n",
    "    'Bucket': 'console-sample-images-nrt',\n",
    "    'Name': 'yoga_swimwear.jpg'\n",
    "}})"
   ]
  },
  {
   "cell_type": "markdown",
   "metadata": {},
   "source": [
    "# 顔の分析 ( detect_faces )\n",
    "1. バイト文字列 ( 5MB 以下)\n",
    "2. S3\n",
    "\n",
    "[詳細はこちら](https://boto3.amazonaws.com/v1/documentation/api/latest/reference/services/rekognition.html#Rekognition.Client.detect_faces)"
   ]
  },
  {
   "cell_type": "code",
   "execution_count": null,
   "metadata": {},
   "outputs": [],
   "source": [
    "img_file = './data/drive_resized.jpg'\n",
    "with open(img_file,'rb') as f:\n",
    "    img_bytes = f.read()\n",
    "print(img_bytes[0:10])"
   ]
  },
  {
   "cell_type": "code",
   "execution_count": null,
   "metadata": {},
   "outputs": [],
   "source": [
    "response = client.detect_faces(\n",
    "    Image={\n",
    "        'Bytes': img_bytes,\n",
    "    },\n",
    "    Attributes=[\n",
    "        'ALL',\n",
    "    ]\n",
    ")\n",
    "print(response)"
   ]
  },
  {
   "cell_type": "code",
   "execution_count": null,
   "metadata": {},
   "outputs": [],
   "source": [
    "%%time\n",
    "response = client.detect_faces(Image={'S3Object':{\n",
    "    'Bucket': 'console-sample-images-nrt',\n",
    "    'Name': 'family.png'\n",
    "}})\n",
    "print(response)"
   ]
  },
  {
   "cell_type": "markdown",
   "metadata": {},
   "source": [
    "# 有名人の認識 ( recognize_celebrities )\n",
    "1. バイト文字列 ( 5MB 以下)\n",
    "2. S3\n",
    "\n",
    "[詳細はこちら](https://boto3.amazonaws.com/v1/documentation/api/latest/reference/services/rekognition.html#Rekognition.Client.recognize_celebrities)"
   ]
  },
  {
   "cell_type": "code",
   "execution_count": null,
   "metadata": {},
   "outputs": [],
   "source": [
    "img_file = './data/jeff_portrait.jpg'\n",
    "with open(img_file,'rb') as f:\n",
    "    img_bytes = f.read()\n",
    "print(img_bytes[0:10])"
   ]
  },
  {
   "cell_type": "code",
   "execution_count": null,
   "metadata": {},
   "outputs": [],
   "source": [
    "response = client.recognize_celebrities(\n",
    "    Image={\n",
    "        'Bytes': img_bytes\n",
    "    }\n",
    ")\n",
    "print(response)"
   ]
  },
  {
   "cell_type": "code",
   "execution_count": null,
   "metadata": {},
   "outputs": [],
   "source": [
    "%%time\n",
    "response = client.get_celebrity_info(\n",
    "    Id=response['CelebrityFaces'][0]['Id']\n",
    ")\n",
    "print(response)"
   ]
  },
  {
   "cell_type": "code",
   "execution_count": null,
   "metadata": {},
   "outputs": [],
   "source": [
    "%%time\n",
    "response = client.recognize_celebrities(\n",
    "    Image={\n",
    "        'S3Object': {\n",
    "            'Bucket': 'console-sample-images-nrt',\n",
    "            'Name': 'andy_portrait.jpg',\n",
    "        }\n",
    "    }\n",
    ")\n",
    "print(response)"
   ]
  },
  {
   "cell_type": "markdown",
   "metadata": {},
   "source": [
    "# 顔の比較 ( compare_faces )\n",
    "1. Sourceをbyte文字列\n",
    "2. TargetをS3"
   ]
  },
  {
   "cell_type": "code",
   "execution_count": null,
   "metadata": {},
   "outputs": [],
   "source": [
    "img_file = './data/source3_resized.jpg'\n",
    "with open(img_file,'rb') as f:\n",
    "    img_bytes = f.read()\n",
    "print(img_bytes[0:10])"
   ]
  },
  {
   "cell_type": "code",
   "execution_count": null,
   "metadata": {},
   "outputs": [],
   "source": [
    "response = client.compare_faces(\n",
    "    SourceImage={\n",
    "        'Bytes': img_bytes\n",
    "    },\n",
    "    TargetImage={\n",
    "        'S3Object': {\n",
    "            'Bucket': 'console-sample-images-nrt',\n",
    "            'Name': 'target3.jpg',\n",
    "        }\n",
    "    },\n",
    "    SimilarityThreshold=0\n",
    ")\n",
    "print(response)"
   ]
  },
  {
   "cell_type": "markdown",
   "metadata": {},
   "source": [
    "# detect_text\n",
    "* 以下バイト文字列省略\n",
    "\n",
    "[詳細はこちら](https://boto3.amazonaws.com/v1/documentation/api/latest/reference/services/rekognition.html#Rekognition.Client.detect_text)"
   ]
  },
  {
   "cell_type": "code",
   "execution_count": null,
   "metadata": {},
   "outputs": [],
   "source": [
    "response = client.detect_text(\n",
    "    Image={\n",
    "        'S3Object': {\n",
    "            'Bucket': 'console-sample-images-nrt',\n",
    "            'Name': 'coffee_monday.jpg',\n",
    "        }\n",
    "    }\n",
    ")\n",
    "print(response)"
   ]
  },
  {
   "cell_type": "markdown",
   "metadata": {},
   "source": [
    "# コレクション\n",
    "1. コレクションを作成 (create_collection)\n",
    "2. 顔を登録 (index_faces)\n",
    "3. 顔イメージの検索\n",
    "4. collection の削除"
   ]
  },
  {
   "cell_type": "markdown",
   "metadata": {},
   "source": [
    "## 1. コレクションを作成"
   ]
  },
  {
   "cell_type": "code",
   "execution_count": null,
   "metadata": {},
   "outputs": [],
   "source": [
    "# コレクション作成\n",
    "COLLECTION_ID = 'MyFirstCollection'\n",
    "response = client.create_collection(CollectionId=COLLECTION_ID)\n",
    "print(response)"
   ]
  },
  {
   "cell_type": "markdown",
   "metadata": {},
   "source": [
    "## 2. 顔を登録"
   ]
  },
  {
   "cell_type": "code",
   "execution_count": null,
   "metadata": {},
   "outputs": [],
   "source": [
    "collection_id_name = {}"
   ]
  },
  {
   "cell_type": "code",
   "execution_count": null,
   "metadata": {},
   "outputs": [],
   "source": [
    "# Jeff\n",
    "response=client.index_faces(\n",
    "    CollectionId=COLLECTION_ID,\n",
    "    Image={\n",
    "        'S3Object':{\n",
    "            'Bucket':'console-sample-images-nrt',\n",
    "            'Name':'jeff_portrait.jpg'\n",
    "        }\n",
    "    }\n",
    ")\n",
    "print(response)\n",
    "collection_id_name[response['FaceRecords'][0]['Face']['FaceId']] = 'Jeff'"
   ]
  },
  {
   "cell_type": "code",
   "execution_count": null,
   "metadata": {},
   "outputs": [],
   "source": [
    "# Andy\n",
    "response=client.index_faces(\n",
    "    CollectionId=COLLECTION_ID,\n",
    "    Image={\n",
    "        'S3Object':{\n",
    "            'Bucket':'console-sample-images-nrt',\n",
    "            'Name':'andy_portrait.jpg'\n",
    "        }\n",
    "    }\n",
    ")\n",
    "print(response)\n",
    "collection_id_name[response['FaceRecords'][0]['Face']['FaceId']] = 'Andy'"
   ]
  },
  {
   "cell_type": "markdown",
   "metadata": {},
   "source": [
    "## 顔イメージを検索"
   ]
  },
  {
   "cell_type": "code",
   "execution_count": null,
   "metadata": {},
   "outputs": [],
   "source": [
    "img_file = './data/jeff_test.jpg'\n",
    "with open(img_file,'rb') as f:\n",
    "    img_bytes = f.read()\n",
    "print(img_bytes[0:10])"
   ]
  },
  {
   "cell_type": "code",
   "execution_count": null,
   "metadata": {},
   "outputs": [],
   "source": [
    "# Jeff で試す\n",
    "response = client.search_faces_by_image(\n",
    "    CollectionId=COLLECTION_ID,\n",
    "    Image={\n",
    "        'Bytes':img_bytes\n",
    "    },\n",
    ")\n",
    "print(response)"
   ]
  },
  {
   "cell_type": "code",
   "execution_count": null,
   "metadata": {},
   "outputs": [],
   "source": [
    "print(collection_id_name[response['FaceMatches'][0]['Face']['FaceId']])"
   ]
  },
  {
   "cell_type": "code",
   "execution_count": null,
   "metadata": {},
   "outputs": [],
   "source": [
    "# Stive で試す,default th=0.8\n",
    "img_file = './data/stive_test.jpg'\n",
    "with open(img_file,'rb') as f:\n",
    "    img_bytes = f.read()\n",
    "response = client.search_faces_by_image(\n",
    "    CollectionId=COLLECTION_ID,\n",
    "    Image={\n",
    "        'Bytes':img_bytes\n",
    "    },\n",
    ")\n",
    "print(response)"
   ]
  },
  {
   "cell_type": "markdown",
   "metadata": {},
   "source": [
    "## 4. collection の削除"
   ]
  },
  {
   "cell_type": "code",
   "execution_count": null,
   "metadata": {},
   "outputs": [],
   "source": [
    "client.delete_collection(CollectionId = COLLECTION_ID)"
   ]
  },
  {
   "cell_type": "code",
   "execution_count": null,
   "metadata": {},
   "outputs": [],
   "source": []
  }
 ],
 "metadata": {
  "kernelspec": {
   "display_name": "conda_python3",
   "language": "python",
   "name": "conda_python3"
  },
  "language_info": {
   "codemirror_mode": {
    "name": "ipython",
    "version": 3
   },
   "file_extension": ".py",
   "mimetype": "text/x-python",
   "name": "python",
   "nbconvert_exporter": "python",
   "pygments_lexer": "ipython3",
   "version": "3.6.10"
  }
 },
 "nbformat": 4,
 "nbformat_minor": 4
}
