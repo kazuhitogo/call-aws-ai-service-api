{
 "cells": [
  {
   "cell_type": "markdown",
   "metadata": {},
   "source": [
    "# 前提\n",
    "* sagemaker notebook でロールに AdministratorAccess ポリシーが付与されている\n",
    "\n",
    "# 概要\n",
    "* 電力の需要予測\n",
    "* clientごと、時間 ( hour ) ごとにどれくらいの電力需要があるのかを予測する\n",
    "\n",
    "# おすすめ\n",
    "* ForecastのAPIをたたくごとに、GUIで結果を見ながら実施\n",
    "\n"
   ]
  },
  {
   "cell_type": "code",
   "execution_count": null,
   "metadata": {},
   "outputs": [],
   "source": [
    "# small csv ダウンロード\n",
    "!if [ -e ./electricityusagedata_small.csv ]; then rm ./electricityusagedata_small.csv; fi\n",
    "!if [ -e ./electricityusagedata_small.zip ]; then rm ./electricityusagedata_small.zip; fi\n",
    "!if [ -e ./electricityusagedata.csv ]; then rm ./electricityusagedata.csv; fi\n",
    "\n",
    "!wget https://samejima-handson.s3-ap-northeast-1.amazonaws.com/electricityusagedata_small.zip\n",
    "!unzip electricityusagedata_small.zip\n",
    "!mv electricityusagedata.csv electricityusagedata_small.csv"
   ]
  },
  {
   "cell_type": "code",
   "execution_count": null,
   "metadata": {},
   "outputs": [],
   "source": [
    "# normal csv ダウンロード\n",
    "!if [ -e ./electricityusagedata.csv ]; then rm ./electricityusagedata.csv; fi\n",
    "!if [ -e ./electricityusagedata.zip ]; then rm ./electricityusagedata.zip; fi\n",
    "\n",
    "!wget https://samejima-handson.s3-ap-northeast-1.amazonaws.com/electricityusagedata.zip\n",
    "!unzip electricityusagedata.zip"
   ]
  },
  {
   "cell_type": "code",
   "execution_count": null,
   "metadata": {},
   "outputs": [],
   "source": [
    "!pip install tzlocal"
   ]
  },
  {
   "cell_type": "code",
   "execution_count": null,
   "metadata": {},
   "outputs": [],
   "source": [
    "import sagemaker,boto3,datetime,tzlocal\n",
    "import pandas as pd\n",
    "from time import sleep\n",
    "from IPython.core.display import display, HTML \n",
    "display(HTML(\"<style>.container { width:100% !important; }</style>\")) "
   ]
  },
  {
   "cell_type": "code",
   "execution_count": null,
   "metadata": {},
   "outputs": [],
   "source": [
    "# Forecast で使用する S3 の場所\n",
    "s3_location = 's3://' + sagemaker.Session().default_bucket() + '/forecast'\n",
    "print(s3_location)"
   ]
  },
  {
   "cell_type": "code",
   "execution_count": null,
   "metadata": {},
   "outputs": [],
   "source": [
    "s3_csv_location = sagemaker.s3.S3Uploader.upload('./electricityusagedata_small.csv',s3_location)\n",
    "print(s3_csv_location)"
   ]
  },
  {
   "cell_type": "code",
   "execution_count": null,
   "metadata": {},
   "outputs": [],
   "source": [
    "# Forecast で使用する Role\n",
    "ROLE_ARN = 'arn:aws:iam::<値をいれてください>'"
   ]
  },
  {
   "cell_type": "code",
   "execution_count": null,
   "metadata": {},
   "outputs": [],
   "source": [
    "forecast = boto3.client('forecast')"
   ]
  },
  {
   "cell_type": "markdown",
   "metadata": {},
   "source": [
    "# データセットの作成"
   ]
  },
  {
   "cell_type": "code",
   "execution_count": null,
   "metadata": {},
   "outputs": [],
   "source": [
    "DATASET_NAME = 'target_time_series_electricity_usage_data_small'\n",
    "response = forecast.create_dataset(\n",
    "    DatasetName=DATASET_NAME,\n",
    "    Domain='CUSTOM',\n",
    "    DatasetType='TARGET_TIME_SERIES',\n",
    "    DataFrequency='H',\n",
    "    Schema={\n",
    "        'Attributes': [\n",
    "            {\n",
    "                \"AttributeName\": \"timestamp\",\n",
    "                \"AttributeType\": \"timestamp\"\n",
    "            },{\n",
    "                \"AttributeName\": \"target_value\",\n",
    "                \"AttributeType\": \"float\"\n",
    "            },{\n",
    "                \"AttributeName\": \"item_id\",\n",
    "                \"AttributeType\": \"string\"\n",
    "            }\n",
    "        ]\n",
    "        \n",
    "    }\n",
    ")\n",
    "DATASET_ARN = response['DatasetArn']\n",
    "print(response)"
   ]
  },
  {
   "cell_type": "code",
   "execution_count": null,
   "metadata": {},
   "outputs": [],
   "source": [
    "forecast.describe_dataset(DatasetArn=DATASET_ARN)"
   ]
  },
  {
   "cell_type": "markdown",
   "metadata": {},
   "source": [
    "# データセットグループの作成"
   ]
  },
  {
   "cell_type": "code",
   "execution_count": null,
   "metadata": {},
   "outputs": [],
   "source": [
    "DATASET_GROUP_NAME = 'electricity_usage_data_small'\n",
    "response = forecast.create_dataset_group(\n",
    "    DatasetGroupName=DATASET_GROUP_NAME,\n",
    "    Domain='CUSTOM',\n",
    "    DatasetArns=[\n",
    "        DATASET_ARN,\n",
    "    ]\n",
    ")\n",
    "DATASET_GROUP_ARN = response['DatasetGroupArn']\n",
    "print(response)"
   ]
  },
  {
   "cell_type": "code",
   "execution_count": null,
   "metadata": {},
   "outputs": [],
   "source": [
    "forecast.describe_dataset_group(DatasetGroupArn=DATASET_GROUP_ARN)"
   ]
  },
  {
   "cell_type": "markdown",
   "metadata": {},
   "source": [
    "# Import job の作成"
   ]
  },
  {
   "cell_type": "code",
   "execution_count": null,
   "metadata": {},
   "outputs": [],
   "source": [
    "%%time\n",
    "# Import job の作成\n",
    "\n",
    "DATASET_IMPORT_JOB_NAME = 'electricity_usage_data_import_job'\n",
    "response = forecast.create_dataset_import_job(\n",
    "    DatasetImportJobName=DATASET_IMPORT_JOB_NAME,\n",
    "    DatasetArn=DATASET_ARN,\n",
    "    DataSource={\n",
    "        'S3Config': {\n",
    "            'Path': s3_csv_location,\n",
    "            'RoleArn': ROLE_ARN\n",
    "        }\n",
    "    }\n",
    ")\n",
    "DATASET_IMPORT_JOB_ARN = response['DatasetImportJobArn']\n",
    "print(response)\n",
    "while True:\n",
    "    response = forecast.describe_dataset_import_job(DatasetImportJobArn=DATASET_IMPORT_JOB_ARN)\n",
    "    if response['Status']=='ACTIVE':\n",
    "        print('!')\n",
    "        print('import job done.')\n",
    "        print(response)\n",
    "        break\n",
    "    else:\n",
    "        sleep(1)\n",
    "        print('.',end='')\n",
    "start_time = response['CreationTime']\n",
    "end_time = response['LastModificationTime']\n",
    "total_time = end_time - start_time\n",
    "print(total_time)"
   ]
  },
  {
   "cell_type": "markdown",
   "metadata": {},
   "source": [
    "# Predictor の作成"
   ]
  },
  {
   "cell_type": "code",
   "execution_count": null,
   "metadata": {},
   "outputs": [],
   "source": [
    "sleep(5)\n",
    "# 予測子を作成\n",
    "\n",
    "PREDICTOR_NAME='electricity_usage_data_predictor'\n",
    "response = forecast.create_predictor(\n",
    "    PredictorName=PREDICTOR_NAME,\n",
    "    ForecastHorizon=20,\n",
    "    PerformAutoML=True,\n",
    "    PerformHPO=False,\n",
    "    InputDataConfig={\n",
    "        'DatasetGroupArn': DATASET_GROUP_ARN,\n",
    "    },\n",
    "    FeaturizationConfig={\n",
    "        \"ForecastFrequency\": \"H\"\n",
    "    },\n",
    ")\n",
    "PREDICTOR_ARN = response['PredictorArn']\n",
    "print(response)\n",
    "while True:\n",
    "    response = forecast.describe_predictor(PredictorArn=PREDICTOR_ARN)\n",
    "    if response['Status']=='ACTIVE':\n",
    "        print('!')\n",
    "        print('make predictor done.')\n",
    "        print(response)\n",
    "        break\n",
    "    else:\n",
    "        print('.',end='')\n",
    "        sleep(1)\n",
    "start_time = response['CreationTime']\n",
    "end_time = response['LastModificationTime']\n",
    "total_time = end_time - start_time\n",
    "print(total_time)"
   ]
  },
  {
   "cell_type": "markdown",
   "metadata": {},
   "source": [
    "# 予測の作成"
   ]
  },
  {
   "cell_type": "code",
   "execution_count": null,
   "metadata": {},
   "outputs": [],
   "source": [
    "sleep(5)\n",
    "FORECAST_NAME='electricity_usage_data_forecast'\n",
    "response = forecast.create_forecast(\n",
    "    ForecastName=FORECAST_NAME,\n",
    "    PredictorArn=PREDICTOR_ARN\n",
    ")\n",
    "FORECAST_ARN = response['ForecastArn']\n",
    "print(response)\n",
    "while True:\n",
    "    response = forecast.describe_forecast(ForecastArn=FORECAST_ARN)\n",
    "    if response['Status']=='ACTIVE':\n",
    "        print('!')\n",
    "        print('make forecast done')\n",
    "        break\n",
    "    else:\n",
    "        print('.',end='')\n",
    "        sleep(1)\n",
    "start_time = response['CreationTime']\n",
    "end_time = response['LastModificationTime']\n",
    "total_time = end_time - start_time\n",
    "print(total_time)"
   ]
  },
  {
   "cell_type": "code",
   "execution_count": null,
   "metadata": {},
   "outputs": [],
   "source": [
    "forecast_query = boto3.client('forecastquery')"
   ]
  },
  {
   "cell_type": "code",
   "execution_count": null,
   "metadata": {},
   "outputs": [],
   "source": [
    "forecast_query.query_forecast(\n",
    "    ForecastArn=FORECAST_ARN,\n",
    "    StartDate='2015-01-01T02:00:00',\n",
    "    EndDate='2015-01-01T03:00:00',\n",
    "    Filters={\n",
    "        'item_id': 'client_1'\n",
    "    }\n",
    ")"
   ]
  },
  {
   "cell_type": "code",
   "execution_count": null,
   "metadata": {},
   "outputs": [],
   "source": [
    "FORECAST_EXPORT_JOB_NAME = 'small_data_export_job'\n",
    "response = forecast.create_forecast_export_job(\n",
    "    ForecastExportJobName=FORECAST_EXPORT_JOB_NAME,\n",
    "    ForecastArn=FORECAST_ARN,\n",
    "    Destination={\n",
    "        'S3Config': {\n",
    "            'Path': s3_location + '/predict_result/',\n",
    "            'RoleArn': 'arn:aws:iam::155580384669:role/service-role/AmazonForecast-ExecutionRole-1587637446878'\n",
    "        }\n",
    "    }\n",
    ")\n",
    "FORECAST_EXPORT_JOB_ARN = response['ForecastExportJobArn']\n",
    "print(response)\n",
    "while True:\n",
    "    response = forecast.describe_forecast_export_job(ForecastExportJobArn = FORECAST_EXPORT_JOB_ARN)\n",
    "    if response['Status'] == 'ACTIVE':\n",
    "        print('')\n",
    "        print('export job done')\n",
    "        print(response)\n",
    "        break\n",
    "    else:\n",
    "        print('.',end='')\n",
    "        sleep(1)\n",
    "start_time = response['CreationTime']\n",
    "end_time = response['LastModificationTime']\n",
    "total_time = end_time - start_time\n",
    "print(total_time)"
   ]
  },
  {
   "cell_type": "markdown",
   "metadata": {},
   "source": [
    "# お片付け"
   ]
  },
  {
   "cell_type": "code",
   "execution_count": null,
   "metadata": {},
   "outputs": [],
   "source": [
    "forecast.delete_forecast_export_job(ForecastExportJobArn=FORECAST_EXPORT_JOB_ARN)"
   ]
  },
  {
   "cell_type": "code",
   "execution_count": null,
   "metadata": {},
   "outputs": [],
   "source": [
    "# Forecast を削除\n",
    "print('Started to delete Forecast')\n",
    "forecast.delete_forecast(ForecastArn=FORECAST_ARN)\n",
    "while True:\n",
    "    try:\n",
    "        forecast.describe_forecast(ForecastArn=FORECAST_ARN)\n",
    "        print('.',end='.')\n",
    "        sleep(1)\n",
    "    except:\n",
    "        print('!')\n",
    "        print('Finished to delete Forecast')\n",
    "        break"
   ]
  },
  {
   "cell_type": "code",
   "execution_count": null,
   "metadata": {},
   "outputs": [],
   "source": [
    "# Predictor を削除\n",
    "print('Started to delete Predictor')\n",
    "forecast.delete_predictor(PredictorArn=PREDICTOR_ARN)\n",
    "while True:\n",
    "    try:\n",
    "        print('.',end='.')\n",
    "        forecast.describe_predictor(PredictorArn=PREDICTOR_ARN)\n",
    "        sleep(1)\n",
    "    except:\n",
    "        print('!')\n",
    "        print('Finished to delete Predictor')\n",
    "        break"
   ]
  },
  {
   "cell_type": "code",
   "execution_count": null,
   "metadata": {},
   "outputs": [],
   "source": [
    "%%time\n",
    "# Dataset(TARGET_TIME_SERIES) を削除\n",
    "print('Started to delete TARTGET_TIME_SERIES dataset import job')\n",
    "forecast.delete_dataset_import_job(DatasetImportJobArn=DATASET_IMPORT_JOB_ARN)\n",
    "while True:\n",
    "    try:\n",
    "        print('.',end='.')\n",
    "        forecast.describe_dataset_import_job(DatasetImportJobArn=DATASET_IMPORT_JOB_ARN)\n",
    "        sleep(1)\n",
    "    except:\n",
    "        print('!')\n",
    "        print('Finished to delete TARTGET_TIME_SERIES dataset import job')\n",
    "        break"
   ]
  },
  {
   "cell_type": "code",
   "execution_count": null,
   "metadata": {},
   "outputs": [],
   "source": [
    "%%time\n",
    "# Dataset(TARGET_TIME_SERIES) を削除\n",
    "print('Started to delete TARTGET_TIME_SERIES dataset')\n",
    "forecast.delete_dataset(DatasetArn=DATASET_ARN)\n",
    "while True:\n",
    "    try:\n",
    "        print('.',end='.')\n",
    "        forecast.describe_dataset(DatasetArn=DATASET_ARN)\n",
    "        sleep(1)\n",
    "    except:\n",
    "        print('!')\n",
    "        print('Finished to delete TARTGET_TIME_SERIES dataset')\n",
    "        break"
   ]
  },
  {
   "cell_type": "code",
   "execution_count": null,
   "metadata": {},
   "outputs": [],
   "source": [
    "%%time\n",
    "# Dataset(TARGET_TIME_SERIES) を削除\n",
    "print('Started to delete dataset group')\n",
    "forecast.delete_dataset_group(DatasetGroupArn=DATASET_GROUP_ARN)\n",
    "while True:\n",
    "    try:\n",
    "        print('.',end='.')\n",
    "        forecast.describe_dataset_group(DatasetGroupArn=DATASET_GROUP_ARN)\n",
    "        sleep(1)\n",
    "    except:\n",
    "        print('!')\n",
    "        print('Finished to delete dataset group')\n",
    "        break"
   ]
  },
  {
   "cell_type": "code",
   "execution_count": null,
   "metadata": {},
   "outputs": [],
   "source": []
  }
 ],
 "metadata": {
  "kernelspec": {
   "display_name": "conda_python3",
   "language": "python",
   "name": "conda_python3"
  },
  "language_info": {
   "codemirror_mode": {
    "name": "ipython",
    "version": 3
   },
   "file_extension": ".py",
   "mimetype": "text/x-python",
   "name": "python",
   "nbconvert_exporter": "python",
   "pygments_lexer": "ipython3",
   "version": "3.6.5"
  }
 },
 "nbformat": 4,
 "nbformat_minor": 4
}
