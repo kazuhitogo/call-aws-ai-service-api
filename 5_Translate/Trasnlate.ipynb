{
 "cells": [
  {
   "cell_type": "code",
   "execution_count": null,
   "metadata": {},
   "outputs": [],
   "source": [
    "import boto3,json"
   ]
  },
  {
   "cell_type": "code",
   "execution_count": null,
   "metadata": {},
   "outputs": [],
   "source": [
    "client = boto3.client(\"translate\")"
   ]
  },
  {
   "cell_type": "code",
   "execution_count": null,
   "metadata": {},
   "outputs": [],
   "source": [
    "!cp ../4_Comprehend/hoge.json ./"
   ]
  },
  {
   "cell_type": "code",
   "execution_count": null,
   "metadata": {},
   "outputs": [],
   "source": [
    "text = \"\"\n",
    "with open(\"./hoge.json\") as f:\n",
    "    text += f.readline()\n",
    "print(text)"
   ]
  },
  {
   "cell_type": "code",
   "execution_count": null,
   "metadata": {},
   "outputs": [],
   "source": [
    "text = json.loads(text)['results']['transcripts'][0]['transcript'].replace(' ','')\n",
    "print(text)"
   ]
  },
  {
   "cell_type": "code",
   "execution_count": null,
   "metadata": {},
   "outputs": [],
   "source": [
    "translate_response = client.translate_text(\n",
    "    Text=text, # 翻訳したい文字列を指定\n",
    "    SourceLanguageCode=\"ja\", # 翻訳「元」の言語\n",
    "    TargetLanguageCode=\"en\" # 翻訳「先」の言語\n",
    ")\n",
    "text_jp =translate_response[\"TranslatedText\"]\n",
    "print(text_jp)"
   ]
  },
  {
   "cell_type": "code",
   "execution_count": null,
   "metadata": {},
   "outputs": [],
   "source": [
    "terminology = \"\"\"ja,en\n",
    "ダイエットをする,get slim\n",
    "\"\"\"\n",
    "with open('./terminology.csv','w') as f:\n",
    "    f.write(terminology)"
   ]
  },
  {
   "cell_type": "code",
   "execution_count": null,
   "metadata": {},
   "outputs": [],
   "source": [
    "with open('./terminology.csv','rb') as f:\n",
    "    bytes_str = f.read()\n",
    "print(bytes_str)"
   ]
  },
  {
   "cell_type": "code",
   "execution_count": null,
   "metadata": {},
   "outputs": [],
   "source": [
    "TERMINLOGY_NAME = 'TerminologyTest'\n",
    "response = client.import_terminology(\n",
    "    Name=TERMINLOGY_NAME,\n",
    "    MergeStrategy='OVERWRITE',\n",
    "    Description='terminology test',\n",
    "    TerminologyData={\n",
    "        'File': bytes_str,\n",
    "        'Format': 'CSV'\n",
    "    }\n",
    ")\n",
    "print(response)"
   ]
  },
  {
   "cell_type": "code",
   "execution_count": null,
   "metadata": {},
   "outputs": [],
   "source": [
    "response = client.translate_text(\n",
    "    Text=text,\n",
    "    TerminologyNames=[\n",
    "        TERMINLOGY_NAME\n",
    "    ],\n",
    "    SourceLanguageCode='ja',\n",
    "    TargetLanguageCode='en'\n",
    ")"
   ]
  },
  {
   "cell_type": "code",
   "execution_count": null,
   "metadata": {},
   "outputs": [],
   "source": [
    "response"
   ]
  },
  {
   "cell_type": "code",
   "execution_count": null,
   "metadata": {},
   "outputs": [],
   "source": [
    "client.delete_terminology(Name=TERMINLOGY_NAME)"
   ]
  },
  {
   "cell_type": "code",
   "execution_count": null,
   "metadata": {},
   "outputs": [],
   "source": []
  }
 ],
 "metadata": {
  "kernelspec": {
   "display_name": "conda_python3",
   "language": "python",
   "name": "conda_python3"
  },
  "language_info": {
   "codemirror_mode": {
    "name": "ipython",
    "version": 3
   },
   "file_extension": ".py",
   "mimetype": "text/x-python",
   "name": "python",
   "nbconvert_exporter": "python",
   "pygments_lexer": "ipython3",
   "version": "3.6.10"
  }
 },
 "nbformat": 4,
 "nbformat_minor": 4
}
