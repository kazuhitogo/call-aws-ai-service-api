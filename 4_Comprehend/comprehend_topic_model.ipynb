{
 "cells": [
  {
   "cell_type": "markdown",
   "metadata": {},
   "source": [
    "# 概要\n",
    "* livedoorニュースの記事に対して Comprehend の topic model を使ってみる"
   ]
  },
  {
   "cell_type": "code",
   "execution_count": null,
   "metadata": {},
   "outputs": [],
   "source": [
    "!wget https://www.rondhuit.com/download/ldcc-20140209.tar.gz\n",
    "!tar -zxvf ldcc-20140209.tar.gz\n",
    "!rm text/CHANGES.txt\n",
    "!rm text/README.txt\n",
    "!rm text/topic-news/LICENSE.tx\n",
    "!rm text/dokujo-tsushin/LICENSE.txt"
   ]
  },
  {
   "cell_type": "code",
   "execution_count": null,
   "metadata": {},
   "outputs": [],
   "source": [
    "import boto3,time,sagemaker\n",
    "import pandas as pd"
   ]
  },
  {
   "cell_type": "code",
   "execution_count": null,
   "metadata": {},
   "outputs": [],
   "source": [
    "client = boto3.client('comprehend')"
   ]
  },
  {
   "cell_type": "code",
   "execution_count": null,
   "metadata": {},
   "outputs": [],
   "source": [
    "# 設定値\n",
    "BUCKET = sagemaker.Session().default_bucket()\n",
    "INPUT_S3_LOCATION = 's3://'+BUCKET+'/comprehend/topic_model/input'\n",
    "OUTPUT_S3_LOCATION = 's3://'+BUCKET+'/comprehend/topic_model/output'\n",
    "JOBNAME = 'MySecondJob'\n",
    "ROLE = 'arn:aws:iam::155580384669:role/comprehend_role'"
   ]
  },
  {
   "cell_type": "code",
   "execution_count": null,
   "metadata": {},
   "outputs": [],
   "source": [
    "%%time\n",
    "sagemaker.s3.S3Uploader.upload('./text/',INPUT_S3_LOCATION)"
   ]
  },
  {
   "cell_type": "code",
   "execution_count": null,
   "metadata": {},
   "outputs": [],
   "source": [
    "response = client.start_topics_detection_job(\n",
    "    NumberOfTopics=10,\n",
    "    InputDataConfig={\n",
    "        'S3Uri': INPUT_S3_LOCATION,\n",
    "        'InputFormat': 'ONE_DOC_PER_FILE' # 1ファイルで1ドキュメント扱い、他にはONE_DOC_PER_LINEで1行1ドキュメント扱いも可能\n",
    "    },\n",
    "    OutputDataConfig={\n",
    "        'S3Uri':OUTPUT_S3_LOCATION\n",
    "    },\n",
    "    DataAccessRoleArn=ROLE,\n",
    "    JobName=JOBNAME\n",
    ")\n",
    "JOBID = response['JobId']"
   ]
  },
  {
   "cell_type": "code",
   "execution_count": null,
   "metadata": {},
   "outputs": [],
   "source": [
    "OUTPUT_S3_FILE_LOCATION = client.describe_topics_detection_job(JobId=JOBID)['TopicsDetectionJobProperties']['OutputDataConfig']['S3Uri']\n",
    "print(OUTPUT_S3_FILE_LOCATION)"
   ]
  },
  {
   "cell_type": "code",
   "execution_count": null,
   "metadata": {},
   "outputs": [],
   "source": [
    "sagemaker.s3.S3Downloader.download(OUTPUT_S3_FILE_LOCATION,'./')"
   ]
  },
  {
   "cell_type": "code",
   "execution_count": null,
   "metadata": {},
   "outputs": [],
   "source": [
    "!tar zxvf output.tar.gz"
   ]
  },
  {
   "cell_type": "code",
   "execution_count": null,
   "metadata": {},
   "outputs": [],
   "source": [
    "pd.read_csv('./doc-topics.csv').head()"
   ]
  },
  {
   "cell_type": "code",
   "execution_count": null,
   "metadata": {},
   "outputs": [],
   "source": [
    "pd.read_csv('./topic-terms.csv').head()"
   ]
  },
  {
   "cell_type": "code",
   "execution_count": null,
   "metadata": {},
   "outputs": [],
   "source": []
  }
 ],
 "metadata": {
  "kernelspec": {
   "display_name": "conda_python3",
   "language": "python",
   "name": "conda_python3"
  },
  "language_info": {
   "codemirror_mode": {
    "name": "ipython",
    "version": 3
   },
   "file_extension": ".py",
   "mimetype": "text/x-python",
   "name": "python",
   "nbconvert_exporter": "python",
   "pygments_lexer": "ipython3",
   "version": "3.6.5"
  }
 },
 "nbformat": 4,
 "nbformat_minor": 4
}
